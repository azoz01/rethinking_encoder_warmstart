{
 "cells": [
  {
   "cell_type": "code",
   "execution_count": 1,
   "metadata": {},
   "outputs": [],
   "source": [
    "from engine.dataset2vec.data import get_preprocessing_pipeline\n",
    "\n",
    "from engine.dataset2vec.train import LightningWrapper as D2vWrapper\n",
    "from liltab.train.utils import LightningWrapper as LiltabWrapper\n",
    "from pathlib import Path\n",
    "from torch import Tensor\n",
    "from tqdm import tqdm\n",
    "\n",
    "import numpy as np\n",
    "import pandas as pd\n",
    "import torch"
   ]
  },
  {
   "cell_type": "code",
   "execution_count": 2,
   "metadata": {},
   "outputs": [],
   "source": [
    "data_path = Path(\"data/mimic/mini_holdout\")\n",
    "liltab_encoder_path = \"models/liltab.ckpt\"\n",
    "d2v_encoder_path = \"models/d2v.ckpt\""
   ]
  },
  {
   "cell_type": "code",
   "execution_count": 52,
   "metadata": {},
   "outputs": [
    {
     "name": "stderr",
     "output_type": "stream",
     "text": [
      "100%|██████████| 5917/5917 [01:09<00:00, 85.23it/s]\n"
     ]
    }
   ],
   "source": [
    "tasks_paths = list(data_path.rglob(\"*test.csv\"))\n",
    "datasets = dict()\n",
    "\n",
    "for task_path in tqdm(tasks_paths):\n",
    "    task_name = str(task_path).split(\"/\")[-3]\n",
    "    if task_name not in datasets:\n",
    "        datasets[task_name] = []\n",
    "    df = pd.read_csv(task_path)\n",
    "    X, y = Tensor(get_preprocessing_pipeline().fit_transform(df.iloc[:, :-1]).values), Tensor(\n",
    "        df.iloc[:, -1].values\n",
    "    ).reshape(-1, 1)\n",
    "    datasets[task_name].append((X, y))\n",
    "\n",
    "datasets = list(datasets.values())\n",
    "n_datasets = len(datasets)"
   ]
  },
  {
   "cell_type": "code",
   "execution_count": 53,
   "metadata": {},
   "outputs": [],
   "source": [
    "def get_sample(datasets):\n",
    "    if np.random.uniform() <= 0.5:\n",
    "        return sample_from_same_datasets(datasets)\n",
    "    else:\n",
    "        return sample_from_two_datasets(datasets)\n",
    "\n",
    "def sample_from_same_datasets(datasets):\n",
    "    dataset_idx = np.random.choice(n_datasets)\n",
    "    dataset = datasets[dataset_idx]\n",
    "    task_1_idx, task_2_idx = np.random.choice(len(dataset), size=2)\n",
    "    return dataset[task_1_idx], dataset[task_2_idx], 1\n",
    "\n",
    "\n",
    "def sample_from_two_datasets(datasets):\n",
    "    dataset_1_idx, dataset_2_idx = np.random.choice(n_datasets, size=2)\n",
    "    dataset_1, dataset_2 = datasets[dataset_1_idx], datasets[dataset_2_idx]\n",
    "    task_1_idx = np.random.choice(len(dataset_1))\n",
    "    task_2_idx = np.random.choice(len(dataset_2))\n",
    "\n",
    "    return dataset_1[task_1_idx], dataset_2[task_2_idx], 0\n",
    "\n",
    "def sample_with_random_size(arr):\n",
    "    if isinstance(arr, int):\n",
    "        arr = np.arange(arr)\n",
    "    size = np.random.choice(np.arange(1, len(arr)))\n",
    "    return np.random.choice(arr, size=size)\n",
    "\n",
    "def index_tensor(tensor, row_idx, col_idx):\n",
    "    return tensor[row_idx].T[col_idx].T"
   ]
  },
  {
   "cell_type": "code",
   "execution_count": 54,
   "metadata": {},
   "outputs": [],
   "source": [
    "liltab_encoder = LiltabWrapper.load_from_checkpoint(liltab_encoder_path).model\n",
    "d2v_encoder = D2vWrapper.load_from_checkpoint(d2v_encoder_path).encoder"
   ]
  },
  {
   "cell_type": "code",
   "execution_count": 55,
   "metadata": {},
   "outputs": [],
   "source": [
    "(X1, y1), (X2, y2), label = sample_from_two_datasets(datasets)"
   ]
  },
  {
   "cell_type": "code",
   "execution_count": 56,
   "metadata": {},
   "outputs": [],
   "source": [
    "encoders = {\n",
    "    \"liltab\": lambda X, y: liltab_encoder.encode_support_set(X, y).mean(dim=0),\n",
    "    \"d2v\": d2v_encoder,\n",
    "}"
   ]
  },
  {
   "cell_type": "code",
   "execution_count": 57,
   "metadata": {},
   "outputs": [
    {
     "name": "stderr",
     "output_type": "stream",
     "text": [
      "100%|██████████| 10000/10000 [00:56<00:00, 175.64it/s]\n"
     ]
    },
    {
     "data": {
      "text/plain": [
       "0.5614"
      ]
     },
     "execution_count": 57,
     "metadata": {},
     "output_type": "execute_result"
    }
   ],
   "source": [
    "encoder = encoders[\"d2v\"]\n",
    "correctness = []\n",
    "for i in tqdm(range(10000)):\n",
    "    (X1, y1), (X2, y2), label = get_sample(datasets)\n",
    "    encoding_1 = encoder(X1, y1)\n",
    "    encoding_2 = encoder(X2, y2)\n",
    "    prediction = int(torch.exp(-torch.sqrt(((encoding_1 - encoding_2)**2).sum())).item() >= 0.5)\n",
    "    correctness.append(prediction == label)\n",
    "np.mean(correctness)"
   ]
  },
  {
   "cell_type": "code",
   "execution_count": 58,
   "metadata": {},
   "outputs": [],
   "source": [
    "import warnings\n",
    "from sklearn.isotonic import IsotonicRegression\n",
    "\n",
    "warnings.simplefilter(\"ignore\")"
   ]
  },
  {
   "cell_type": "code",
   "execution_count": 59,
   "metadata": {},
   "outputs": [
    {
     "name": "stderr",
     "output_type": "stream",
     "text": [
      "  1%|          | 8/1000 [00:00<00:12, 76.53it/s]"
     ]
    },
    {
     "name": "stderr",
     "output_type": "stream",
     "text": [
      "100%|██████████| 1000/1000 [00:09<00:00, 110.92it/s]\n",
      "100%|██████████| 10000/10000 [01:31<00:00, 109.29it/s]\n"
     ]
    },
    {
     "data": {
      "text/plain": [
       "0.5605"
      ]
     },
     "execution_count": 59,
     "metadata": {},
     "output_type": "execute_result"
    }
   ],
   "source": [
    "encoder = encoders[\"liltab\"]\n",
    "\n",
    "probas = []\n",
    "labels = []\n",
    "for i in tqdm(range(1000)):\n",
    "    (X1, y1), (X2, y2), label = get_sample(datasets)\n",
    "    encoding_1 = encoder(X1, y1)\n",
    "    encoding_2 = encoder(X2, y2)\n",
    "    probas.append(\n",
    "        torch.exp(-torch.sqrt(((encoding_1 - encoding_2) ** 2).sum())).item()\n",
    "    )\n",
    "    labels.append(label)\n",
    "    correctness.append(prediction == label)\n",
    "calib = IsotonicRegression().fit(np.array(probas).reshape(-1, 1), labels)\n",
    "\n",
    "correctness = []\n",
    "for i in tqdm(range(10000)):\n",
    "    (X1, y1), (X2, y2), label = get_sample(datasets)\n",
    "    encoding_1 = encoder(X1, y1)\n",
    "    encoding_2 = encoder(X2, y2)\n",
    "    prediction = int(\n",
    "        calib.predict([torch.exp(-torch.sqrt(((encoding_1 - encoding_2) ** 2).sum())).item()])\n",
    "        >= 0.5\n",
    "    )\n",
    "    correctness.append(prediction == label)\n",
    "np.mean(correctness)"
   ]
  }
 ],
 "metadata": {
  "kernelspec": {
   "display_name": ".venv",
   "language": "python",
   "name": "python3"
  },
  "language_info": {
   "codemirror_mode": {
    "name": "ipython",
    "version": 3
   },
   "file_extension": ".py",
   "mimetype": "text/x-python",
   "name": "python",
   "nbconvert_exporter": "python",
   "pygments_lexer": "ipython3",
   "version": "3.10.12"
  }
 },
 "nbformat": 4,
 "nbformat_minor": 2
}
