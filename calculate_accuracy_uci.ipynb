{
 "cells": [
  {
   "cell_type": "code",
   "execution_count": 1,
   "metadata": {},
   "outputs": [],
   "source": [
    "from engine.dataset2vec.data import get_preprocessing_pipeline\n",
    "\n",
    "from engine.dataset2vec.train import LightningWrapper as D2vWrapper\n",
    "from liltab.train.utils import LightningWrapper as LiltabWrapper\n",
    "from pathlib import Path\n",
    "from torch import Tensor\n",
    "from tqdm import tqdm\n",
    "\n",
    "import numpy as np\n",
    "import pandas as pd\n",
    "import torch\n",
    "\n",
    "import warnings\n",
    "from sklearn.isotonic import IsotonicRegression\n",
    "\n",
    "warnings.simplefilter(\"ignore\")"
   ]
  },
  {
   "cell_type": "code",
   "execution_count": 2,
   "metadata": {},
   "outputs": [],
   "source": [
    "data_path = Path(\"data/uci/raw\")\n",
    "liltab_encoder_path = \"models/liltab.ckpt\"\n",
    "d2v_encoder_path = \"models/d2v.ckpt\""
   ]
  },
  {
   "cell_type": "code",
   "execution_count": 3,
   "metadata": {},
   "outputs": [],
   "source": [
    "dataframes = [pd.read_csv(data_path) for data_path in data_path.iterdir()]\n",
    "datasets = [\n",
    "    (\n",
    "        (\n",
    "            Tensor(\n",
    "                get_preprocessing_pipeline()\n",
    "                .fit_transform(df.iloc[:, :-1])\n",
    "                .values\n",
    "            ),\n",
    "            Tensor(df.iloc[:, -1].values).reshape(-1, 1),\n",
    "        )\n",
    "    )\n",
    "    for df in dataframes\n",
    "]\n",
    "n_datasets = len(datasets)"
   ]
  },
  {
   "cell_type": "code",
   "execution_count": 4,
   "metadata": {},
   "outputs": [],
   "source": [
    "def get_sample(datasets):\n",
    "    if np.random.uniform() <= 0.5:\n",
    "        return sample_from_same_datasets(datasets)\n",
    "    else:\n",
    "        return sample_from_two_datasets(datasets)\n",
    "\n",
    "def sample_from_same_datasets(datasets):\n",
    "    idx = np.random.choice(n_datasets)\n",
    "    X, y = datasets[idx]\n",
    "\n",
    "    all_rows_idx = np.arange(X.shape[0])\n",
    "\n",
    "    first_rows_idx = sample_with_random_size(all_rows_idx).tolist()\n",
    "    first_cols_idx = sample_with_random_size(X.shape[1]).tolist()\n",
    "\n",
    "    second_rows_idx = sample_with_random_size(\n",
    "        np.setdiff1d(all_rows_idx, first_rows_idx)\n",
    "    ).tolist()\n",
    "    second_cols_idx = sample_with_random_size(X.shape[1]).tolist()\n",
    "    return (\n",
    "        (index_tensor(X, first_rows_idx, first_cols_idx), y[first_rows_idx]),\n",
    "        (index_tensor(X, second_rows_idx, second_cols_idx), y[second_rows_idx]),\n",
    "        1\n",
    "    )\n",
    "\n",
    "\n",
    "def sample_from_two_datasets(datasets):\n",
    "    idx1, idx2 = np.random.choice(n_datasets, size=2)\n",
    "    X1, y1 = datasets[idx1]\n",
    "    X2, y2 = datasets[idx2]\n",
    "\n",
    "    first_rows_idx = sample_with_random_size(X1.shape[0]).tolist()\n",
    "    first_cols_idx = sample_with_random_size(X1.shape[1]).tolist()\n",
    "\n",
    "    second_rows_idx = sample_with_random_size(X2.shape[0]).tolist()\n",
    "    second_cols_idx = sample_with_random_size(X2.shape[1]).tolist()\n",
    "\n",
    "    return (\n",
    "        (index_tensor(X1, first_rows_idx, first_cols_idx), y1[first_rows_idx]),\n",
    "        (\n",
    "            index_tensor(X2, second_rows_idx, second_cols_idx),\n",
    "            y2[second_rows_idx],\n",
    "        ),\n",
    "        0\n",
    "    )\n",
    "\n",
    "\n",
    "def sample_with_random_size(arr):\n",
    "    if isinstance(arr, int):\n",
    "        arr = np.arange(arr)\n",
    "    size = np.random.choice(np.arange(1, len(arr)))\n",
    "    return np.random.choice(arr, size=size)\n",
    "\n",
    "def index_tensor(tensor, row_idx, col_idx):\n",
    "    return tensor[row_idx].T[col_idx].T"
   ]
  },
  {
   "cell_type": "code",
   "execution_count": 5,
   "metadata": {},
   "outputs": [],
   "source": [
    "liltab_encoder = LiltabWrapper.load_from_checkpoint(liltab_encoder_path).model\n",
    "d2v_encoder = D2vWrapper.load_from_checkpoint(d2v_encoder_path).encoder"
   ]
  },
  {
   "cell_type": "code",
   "execution_count": 6,
   "metadata": {},
   "outputs": [],
   "source": [
    "encoders = {\n",
    "    \"liltab\": lambda X, y: liltab_encoder.encode_support_set(X, y).mean(dim=0),\n",
    "    \"d2v\": d2v_encoder,\n",
    "}"
   ]
  },
  {
   "cell_type": "code",
   "execution_count": 7,
   "metadata": {},
   "outputs": [
    {
     "name": "stderr",
     "output_type": "stream",
     "text": [
      "100%|██████████| 1000/1000 [00:05<00:00, 199.58it/s]\n",
      "100%|██████████| 10000/10000 [01:02<00:00, 160.41it/s]\n"
     ]
    },
    {
     "data": {
      "text/plain": [
       "0.7185"
      ]
     },
     "execution_count": 7,
     "metadata": {},
     "output_type": "execute_result"
    }
   ],
   "source": [
    "encoder = encoders[\"d2v\"]\n",
    "correctness = []\n",
    "\n",
    "probas = []\n",
    "labels = []\n",
    "for i in tqdm(range(1000)):\n",
    "    (X1, y1), (X2, y2), label = get_sample(datasets)\n",
    "    with torch.no_grad():\n",
    "        encoding_1 = encoder(X1, y1)\n",
    "        encoding_2 = encoder(X2, y2)\n",
    "    probas.append(\n",
    "        torch.exp(-torch.sqrt(((encoding_1 - encoding_2) ** 2).sum())).item()\n",
    "    )\n",
    "    labels.append(label)\n",
    "calib = IsotonicRegression().fit(np.array(probas).reshape(-1, 1), labels)\n",
    "\n",
    "for i in tqdm(range(10000)):\n",
    "    (X1, y1), (X2, y2), label = get_sample(datasets)\n",
    "    with torch.no_grad():\n",
    "        encoding_1 = encoder(X1, y1)\n",
    "        encoding_2 = encoder(X2, y2)\n",
    "    prediction = int(calib.predict([torch.exp(-torch.sqrt(((encoding_1 - encoding_2) ** 2).sum())).item()]) >= 0.5)\n",
    "    correctness.append(prediction == label)\n",
    "np.mean(correctness)"
   ]
  },
  {
   "cell_type": "code",
   "execution_count": 8,
   "metadata": {},
   "outputs": [
    {
     "name": "stderr",
     "output_type": "stream",
     "text": [
      "100%|██████████| 1000/1000 [00:15<00:00, 64.41it/s]\n",
      "100%|██████████| 10000/10000 [01:50<00:00, 90.88it/s]\n"
     ]
    },
    {
     "data": {
      "text/plain": [
       "0.6563"
      ]
     },
     "execution_count": 8,
     "metadata": {},
     "output_type": "execute_result"
    }
   ],
   "source": [
    "encoder = encoders[\"liltab\"]\n",
    "\n",
    "probas = []\n",
    "labels = []\n",
    "for i in tqdm(range(1000)):\n",
    "    (X1, y1), (X2, y2), label = get_sample(datasets)\n",
    "    with torch.no_grad():\n",
    "        encoding_1 = encoder(X1, y1)\n",
    "        encoding_2 = encoder(X2, y2)\n",
    "    probas.append(\n",
    "        torch.exp(-torch.sqrt(((encoding_1 - encoding_2) ** 2).sum())).item()\n",
    "    )\n",
    "    labels.append(label)\n",
    "    correctness.append(prediction == label)\n",
    "calib = IsotonicRegression().fit(np.array(probas).reshape(-1, 1), labels)\n",
    "\n",
    "correctness = []\n",
    "for i in tqdm(range(10000)):\n",
    "    (X1, y1), (X2, y2), label = get_sample(datasets)\n",
    "    with torch.no_grad():\n",
    "        encoding_1 = encoder(X1, y1)\n",
    "        encoding_2 = encoder(X2, y2)\n",
    "    prediction = int(\n",
    "        calib.predict([torch.exp(-torch.sqrt(((encoding_1 - encoding_2) ** 2).sum())).item()])\n",
    "        >= 0.5\n",
    "    )\n",
    "    correctness.append(prediction == label)\n",
    "np.mean(correctness)"
   ]
  }
 ],
 "metadata": {
  "kernelspec": {
   "display_name": ".venv",
   "language": "python",
   "name": "python3"
  },
  "language_info": {
   "codemirror_mode": {
    "name": "ipython",
    "version": 3
   },
   "file_extension": ".py",
   "mimetype": "text/x-python",
   "name": "python",
   "nbconvert_exporter": "python",
   "pygments_lexer": "ipython3",
   "version": "3.10.12"
  }
 },
 "nbformat": 4,
 "nbformat_minor": 2
}
