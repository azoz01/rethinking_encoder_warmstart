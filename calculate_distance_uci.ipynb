{
 "cells": [
  {
   "cell_type": "code",
   "execution_count": 10,
   "metadata": {},
   "outputs": [],
   "source": [
    "from engine.dataset2vec.data import get_preprocessing_pipeline\n",
    "\n",
    "from engine.dataset2vec.train import LightningWrapper as D2vWrapper\n",
    "from liltab.train.utils import LightningWrapper as LiltabWrapper\n",
    "from pathlib import Path\n",
    "from sklearn.metrics import calinski_harabasz_score\n",
    "from torch import Tensor\n",
    "from tqdm import tqdm\n",
    "\n",
    "import numpy as np\n",
    "import pandas as pd\n",
    "import torch"
   ]
  },
  {
   "cell_type": "code",
   "execution_count": 2,
   "metadata": {},
   "outputs": [],
   "source": [
    "data_path = Path(\"data/uci/raw\")\n",
    "liltab_encoder_path = \"models/liltab.ckpt\"\n",
    "d2v_encoder_path = \"models/d2v.ckpt\""
   ]
  },
  {
   "cell_type": "code",
   "execution_count": 3,
   "metadata": {},
   "outputs": [],
   "source": [
    "dataframes = [pd.read_csv(data_path) for data_path in data_path.iterdir()]\n",
    "datasets = [\n",
    "    (\n",
    "        (\n",
    "            Tensor(\n",
    "                get_preprocessing_pipeline()\n",
    "                .fit_transform(df.iloc[:, :-1])\n",
    "                .values\n",
    "            ),\n",
    "            Tensor(df.iloc[:, -1].values).reshape(-1, 1),\n",
    "        )\n",
    "    )\n",
    "    for df in dataframes\n",
    "]\n",
    "n_datasets = len(datasets)"
   ]
  },
  {
   "cell_type": "code",
   "execution_count": 4,
   "metadata": {},
   "outputs": [],
   "source": [
    "def get_sample(dataset):\n",
    "    X, y = dataset\n",
    "    rows_idx = sample_with_random_size(X.shape[0]).tolist()\n",
    "    cols_idx = sample_with_random_size(X.shape[1]).tolist()\n",
    "    return index_tensor(X, rows_idx, cols_idx), y[rows_idx]\n",
    "\n",
    "\n",
    "def sample_with_random_size(arr):\n",
    "    if isinstance(arr, int):\n",
    "        arr = np.arange(arr)\n",
    "    size = np.random.choice(np.arange(1, len(arr)))\n",
    "    return np.random.choice(arr, size=size)\n",
    "\n",
    "def index_tensor(tensor, row_idx, col_idx):\n",
    "    return tensor[row_idx].T[col_idx].T"
   ]
  },
  {
   "cell_type": "code",
   "execution_count": 5,
   "metadata": {},
   "outputs": [
    {
     "name": "stderr",
     "output_type": "stream",
     "text": [
      "/home/dawid/miniconda3/envs/encoders/lib/python3.10/site-packages/pytorch_lightning/utilities/parsing.py:198: Attribute 'model' is an instance of `nn.Module` and is already saved during checkpointing. It is recommended to ignore them using `self.save_hyperparameters(ignore=['model'])`.\n",
      "/home/dawid/miniconda3/envs/encoders/lib/python3.10/site-packages/pytorch_lightning/utilities/parsing.py:198: Attribute 'encoder' is an instance of `nn.Module` and is already saved during checkpointing. It is recommended to ignore them using `self.save_hyperparameters(ignore=['encoder'])`.\n"
     ]
    }
   ],
   "source": [
    "liltab_encoder = LiltabWrapper.load_from_checkpoint(liltab_encoder_path).model\n",
    "d2v_encoder = D2vWrapper.load_from_checkpoint(d2v_encoder_path).encoder"
   ]
  },
  {
   "cell_type": "code",
   "execution_count": 6,
   "metadata": {},
   "outputs": [],
   "source": [
    "encoders = {\n",
    "    \"liltab\": lambda X, y: liltab_encoder.encode_support_set(X, y).mean(dim=0),\n",
    "    \"d2v\": d2v_encoder,\n",
    "}"
   ]
  },
  {
   "cell_type": "code",
   "execution_count": 7,
   "metadata": {},
   "outputs": [],
   "source": [
    "NUMBER_OF_POINTS_PER_DATASET = 100\n",
    "NUMBER_OF_DATASETS = 103"
   ]
  },
  {
   "cell_type": "code",
   "execution_count": 9,
   "metadata": {},
   "outputs": [
    {
     "name": "stderr",
     "output_type": "stream",
     "text": [
      "103it [00:28,  3.64it/s]\n"
     ]
    }
   ],
   "source": [
    "encoder = encoders[\"d2v\"]\n",
    "embeddings_all = []\n",
    "labels = []\n",
    "with torch.no_grad():\n",
    "    for i, dataset in tqdm(enumerate(datasets)):\n",
    "        for _ in range(NUMBER_OF_POINTS_PER_DATASET):\n",
    "            X, y = get_sample(dataset)\n",
    "            embeddings_all.append(encoder(X, y))\n",
    "        labels.extend([i]*NUMBER_OF_POINTS_PER_DATASET)\n",
    "embeddings_all = torch.stack(embeddings_all).numpy()"
   ]
  },
  {
   "cell_type": "code",
   "execution_count": 11,
   "metadata": {},
   "outputs": [
    {
     "data": {
      "text/plain": [
       "244.63536816174695"
      ]
     },
     "execution_count": 11,
     "metadata": {},
     "output_type": "execute_result"
    }
   ],
   "source": [
    "calinski_harabasz_score(embeddings_all, labels)"
   ]
  },
  {
   "cell_type": "code",
   "execution_count": 12,
   "metadata": {},
   "outputs": [
    {
     "name": "stderr",
     "output_type": "stream",
     "text": [
      "103it [01:08,  1.49it/s]\n"
     ]
    }
   ],
   "source": [
    "encoder = encoders[\"liltab\"]\n",
    "embeddings_all = []\n",
    "labels = []\n",
    "with torch.no_grad():\n",
    "    for i, dataset in tqdm(enumerate(datasets)):\n",
    "        for _ in range(NUMBER_OF_POINTS_PER_DATASET):\n",
    "            X, y = get_sample(dataset)\n",
    "            embeddings_all.append(encoder(X, y))\n",
    "        labels.extend([i]*NUMBER_OF_POINTS_PER_DATASET)\n",
    "embeddings_all = torch.stack(embeddings_all).numpy()"
   ]
  },
  {
   "cell_type": "code",
   "execution_count": 13,
   "metadata": {},
   "outputs": [
    {
     "data": {
      "text/plain": [
       "131.92549155749902"
      ]
     },
     "execution_count": 13,
     "metadata": {},
     "output_type": "execute_result"
    }
   ],
   "source": [
    "calinski_harabasz_score(embeddings_all, labels)"
   ]
  }
 ],
 "metadata": {
  "kernelspec": {
   "display_name": ".venv",
   "language": "python",
   "name": "python3"
  },
  "language_info": {
   "codemirror_mode": {
    "name": "ipython",
    "version": 3
   },
   "file_extension": ".py",
   "mimetype": "text/x-python",
   "name": "python",
   "nbconvert_exporter": "python",
   "pygments_lexer": "ipython3",
   "version": "3.10.12"
  }
 },
 "nbformat": 4,
 "nbformat_minor": 2
}
